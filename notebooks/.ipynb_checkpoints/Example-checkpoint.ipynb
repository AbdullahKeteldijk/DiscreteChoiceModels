{
 "cells": [
  {
   "cell_type": "markdown",
   "metadata": {},
   "source": [
    "# Example of Discrete Choice Models"
   ]
  },
  {
   "cell_type": "code",
   "execution_count": 1,
   "metadata": {},
   "outputs": [],
   "source": [
    "import sys\n",
    "sys.path.append('../')\n",
    "\n",
    "import numpy as np\n",
    "from src.dcm import Logit, Probit, Cauchit, Gompit\n",
    "\n",
    "from sklearn.datasets import load_breast_cancer\n",
    "from sklearn.model_selection import train_test_split\n",
    "from sklearn.metrics import accuracy_score"
   ]
  },
  {
   "cell_type": "code",
   "execution_count": 2,
   "metadata": {},
   "outputs": [],
   "source": [
    "cancer = load_breast_cancer()\n",
    "X = cancer.data\n",
    "y = cancer.target"
   ]
  },
  {
   "cell_type": "code",
   "execution_count": 3,
   "metadata": {},
   "outputs": [],
   "source": [
    "X_train, X_test, y_train, y_test = train_test_split(X, y, test_size=0.33, random_state=2)\n",
    "\n",
    "clf_logit = Logit()\n",
    "clf_probit = Probit()\n",
    "clf_cauchit = Cauchit()\n",
    "clf_gompit = Gompit()"
   ]
  },
  {
   "cell_type": "code",
   "execution_count": 4,
   "metadata": {},
   "outputs": [],
   "source": [
    "clf_logit.fit(X_train, y_train)\n",
    "clf_probit.fit(X_train, y_train)\n",
    "clf_cauchit.fit(X_train, y_train)\n",
    "clf_gompit.fit(X_train, y_train)"
   ]
  },
  {
   "cell_type": "code",
   "execution_count": 5,
   "metadata": {},
   "outputs": [],
   "source": [
    "y_pred_logit = clf_logit.predict(X_test)\n",
    "y_pred_probit = clf_probit.predict(X_test)\n",
    "y_pred_cauchit = clf_cauchit.predict(X_test)\n",
    "y_pred_gompit = clf_gompit.predict(X_test)"
   ]
  },
  {
   "cell_type": "code",
   "execution_count": 6,
   "metadata": {
    "scrolled": true
   },
   "outputs": [
    {
     "name": "stdout",
     "output_type": "stream",
     "text": [
      "Accuracy score Logit: 61.170212765957444%\n",
      "Accuracy score Probit: 61.170212765957444%\n",
      "Accuracy score Cauchit: 97.87234042553192%\n",
      "Accuracy score Gompit: 61.170212765957444%\n"
     ]
    }
   ],
   "source": [
    "print('Accuracy score {}: {}%'.format(clf_logit.name, accuracy_score(y_test, y_pred_logit)*100))\n",
    "print('Accuracy score {}: {}%'.format(clf_probit.name, accuracy_score(y_test, y_pred_probit)*100))\n",
    "print('Accuracy score {}: {}%'.format(clf_cauchit.name, accuracy_score(y_test, y_pred_cauchit)*100))\n",
    "print('Accuracy score {}: {}%'.format(clf_gompit.name, accuracy_score(y_test, y_pred_gompit)*100))"
   ]
  }
 ],
 "metadata": {
  "kernelspec": {
   "display_name": "Python 3",
   "language": "python",
   "name": "python3"
  },
  "language_info": {
   "codemirror_mode": {
    "name": "ipython",
    "version": 3
   },
   "file_extension": ".py",
   "mimetype": "text/x-python",
   "name": "python",
   "nbconvert_exporter": "python",
   "pygments_lexer": "ipython3",
   "version": "3.7.3"
  }
 },
 "nbformat": 4,
 "nbformat_minor": 2
}
